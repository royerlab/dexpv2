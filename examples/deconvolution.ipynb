{
 "cells": [
  {
   "cell_type": "code",
   "execution_count": 1,
   "id": "a89256e6-ab50-4c85-bc3d-ca628f082611",
   "metadata": {
    "tags": []
   },
   "outputs": [
    {
     "name": "stdout",
     "output_type": "stream",
     "text": [
      "** Resuming transfer from byte position 57231120\n",
      "  % Total    % Received % Xferd  Average Speed   Time    Time     Time  Current\n",
      "                                 Dload  Upload   Total   Spent    Left  Speed\n",
      "100   394    0   394    0     0   1145      0 --:--:-- --:--:-- --:--:--  1148\n",
      "Archive:  /tmp/DAPI-image.zip\n",
      "** Resuming transfer from byte position 975540\n",
      "  % Total    % Received % Xferd  Average Speed   Time    Time     Time  Current\n",
      "                                 Dload  Upload   Total   Spent    Left  Speed\n",
      "100   394    0   394    0     0   1219      0 --:--:-- --:--:-- --:--:--  1219\n",
      "Archive:  /tmp/DAPI-psf.zip\n"
     ]
    }
   ],
   "source": [
    "!curl -C - -o /tmp/DAPI-image.zip http://bigwww.epfl.ch/deconvolution/bio/CElegans-DAPI.zip\n",
    "!unzip -n /tmp/DAPI-image.zip -d /tmp\n",
    "\n",
    "!curl -C - -o /tmp/DAPI-psf.zip http://bigwww.epfl.ch/deconvolution/bio/PSF-CElegans-DAPI.zip\n",
    "!unzip -n /tmp/DAPI-psf.zip -d /tmp"
   ]
  },
  {
   "cell_type": "code",
   "execution_count": 2,
   "id": "43243a7b",
   "metadata": {
    "tags": []
   },
   "outputs": [],
   "source": [
    "from pathlib import Path\n",
    "\n",
    "import numpy as np\n",
    "import cupy as cp\n",
    "import napari\n",
    "\n",
    "from tifffile import imread\n",
    "from numpy.typing import ArrayLike\n",
    "\n",
    "from dexpv2.deconv import lucy_richardson"
   ]
  },
  {
   "cell_type": "code",
   "execution_count": 3,
   "id": "2ecc1013-515a-4597-8539-5b0f08936e86",
   "metadata": {
    "tags": []
   },
   "outputs": [
    {
     "data": {
      "text/plain": [
       "(104, 712, 672)"
      ]
     },
     "execution_count": 3,
     "metadata": {},
     "output_type": "execute_result"
    }
   ],
   "source": [
    "def load_img(path: Path) -> ArrayLike:\n",
    "    files = sorted(path.glob(\"*.tif\"))\n",
    "    return np.stack([imread(f) for f in files])\n",
    "\n",
    "img = load_img(Path(\"/tmp/CElegans-DAPI\"))\n",
    "psf = load_img(Path(\"/tmp/PSF-CElegans-DAPI\"))\n",
    "img.shape"
   ]
  },
  {
   "cell_type": "code",
   "execution_count": 5,
   "id": "ccfd8a93-485d-41bd-98c6-3659557c3705",
   "metadata": {
    "tags": []
   },
   "outputs": [],
   "source": [
    "n_iters = 10\n",
    "deconved = lucy_richardson(cp.asarray(img, dtype=np.float32), cp.asarray(psf), n_iters, accelerated=True)"
   ]
  },
  {
   "cell_type": "code",
   "execution_count": 6,
   "id": "45924505-2814-40a6-8686-a1537a084ba1",
   "metadata": {
    "tags": []
   },
   "outputs": [
    {
     "data": {
      "text/plain": [
       "<Image layer 'Image' at 0x7f6a980ba290>"
      ]
     },
     "execution_count": 6,
     "metadata": {},
     "output_type": "execute_result"
    }
   ],
   "source": [
    "kwargs = {\"colormap\": \"magma\", \"blending\": \"additive\"}\n",
    "viewer = napari.Viewer()\n",
    "viewer.add_image(img, **kwargs)\n",
    "viewer.add_image(psf, **kwargs)\n",
    "viewer.add_image(deconved.get(), **kwargs)"
   ]
  },
  {
   "cell_type": "code",
   "execution_count": null,
   "id": "683ac4e3-3795-4f69-b40b-007d93a580bb",
   "metadata": {},
   "outputs": [],
   "source": []
  }
 ],
 "metadata": {
  "kernelspec": {
   "display_name": "Python 3 (ipykernel)",
   "language": "python",
   "name": "python3"
  },
  "language_info": {
   "codemirror_mode": {
    "name": "ipython",
    "version": 3
   },
   "file_extension": ".py",
   "mimetype": "text/x-python",
   "name": "python",
   "nbconvert_exporter": "python",
   "pygments_lexer": "ipython3",
   "version": "3.10.10"
  }
 },
 "nbformat": 4,
 "nbformat_minor": 5
}
